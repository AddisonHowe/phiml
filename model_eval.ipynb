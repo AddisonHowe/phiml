{
 "cells": [
  {
   "cell_type": "code",
   "execution_count": 1,
   "metadata": {},
   "outputs": [],
   "source": [
    "import numpy as np\n",
    "from IPython.display import HTML\n",
    "import matplotlib.pyplot as plt\n",
    "import torch\n",
    "from model import PhiNN\n",
    "from dataset import LandscapeSimulationDataset\n",
    "from helpers import jump_function"
   ]
  },
  {
   "cell_type": "markdown",
   "metadata": {},
   "source": [
    "## Examine training and validation datasets"
   ]
  },
  {
   "cell_type": "code",
   "execution_count": 2,
   "metadata": {},
   "outputs": [],
   "source": [
    "datdir_train = \"data/model_training_data\"\n",
    "datdir_valid = \"data/model_validation_data\"\n",
    "nsims_train = 10\n",
    "nsims_valid = 10"
   ]
  },
  {
   "cell_type": "code",
   "execution_count": 3,
   "metadata": {},
   "outputs": [],
   "source": [
    "train_dataset = LandscapeSimulationDataset(\n",
    "    datdir_train, nsims_train, 2, \n",
    "    transform='tensor', \n",
    "    target_transform='tensor'\n",
    ")\n",
    "\n",
    "validation_dataset = LandscapeSimulationDataset(\n",
    "    datdir_valid, nsims_valid, 2, \n",
    "    transform='tensor', \n",
    "    target_transform='tensor'\n",
    ")"
   ]
  },
  {
   "cell_type": "markdown",
   "metadata": {},
   "source": [
    "We can preview an individual training datum, which consists of a distribution of cells $X_0\\in\\mathbb{R}^{n\\times d}$ at time $t_0$, and a subsequent distribution of cells $X_1\\in\\mathbb{R}^{n\\times d}$ at time $t_1$, along with parameters $\\vec{p}\\in\\mathbb{R}^{n_{p}}$, where $n$ is the number of cells, $d$ the dimension of the cells, and $n_p$ the number of parameters that parameterize the signal function $f_{sig}(t,\\cdot)$.\n"
   ]
  },
  {
   "cell_type": "code",
   "execution_count": 23,
   "metadata": {},
   "outputs": [
    {
     "data": {
      "image/png": "[encoded data removed]",
      "text/plain": [
       "<Figure size 640x480 with 1 Axes>"
      ]
     },
     "metadata": {},
     "output_type": "display_data"
    }
   ],
   "source": [
    "idx = 45\n",
    "r = 2\n",
    "train_dataset.preview(idx, xlims=[-r,r], ylims=[-r,r]);"
   ]
  },
  {
   "cell_type": "markdown",
   "metadata": {},
   "source": [
    "We can view an animation of a full simulation, which consists of many consecutive time point pairs"
   ]
  },
  {
   "cell_type": "code",
   "execution_count": null,
   "metadata": {},
   "outputs": [],
   "source": [
    "simidx = 9\n",
    "r = 2\n",
    "ani = train_dataset.animate(\n",
    "    simidx, xlims=[-r, r], ylims=[-r,r], \n",
    "    show=False\n",
    ")"
   ]
  },
  {
   "cell_type": "code",
   "execution_count": null,
   "metadata": {},
   "outputs": [],
   "source": [
    "HTML(ani)"
   ]
  },
  {
   "cell_type": "markdown",
   "metadata": {},
   "source": [
    "## Examine models"
   ]
  },
  {
   "cell_type": "code",
   "execution_count": null,
   "metadata": {},
   "outputs": [],
   "source": [
    "# model_fpath = \"models/model1/model3114540_20231018_191319_49\"\n",
    "# model_fpath = \"models/model2/model3113898_20231018_190742_49\"\n",
    "# model_fpath = \"models/model3/model3113798_20231018_224609_49\"\n",
    "model_fpath = \"models/model4/model3207147_20231019_184546_9\""
   ]
  },
  {
   "cell_type": "code",
   "execution_count": null,
   "metadata": {},
   "outputs": [],
   "source": [
    "NCELLS = 100\n",
    "SIGMA = 1e-1\n",
    "\n",
    "f_signal = lambda t, p: jump_function(t, p[...,0], p[...,1:3], p[...,3:])\n",
    "\n",
    "model = PhiNN(\n",
    "    ndim=2, nsig=2, f_signal=f_signal,\n",
    "    ncells=NCELLS, \n",
    "    sigma=SIGMA,\n",
    ")\n",
    "\n",
    "model.load_state_dict(torch.load(model_fpath, map_location=torch.device('cpu')))\n",
    "model.eval()"
   ]
  },
  {
   "cell_type": "code",
   "execution_count": null,
   "metadata": {},
   "outputs": [],
   "source": [
    "print(list(model.parameters())[-2])"
   ]
  },
  {
   "cell_type": "code",
   "execution_count": null,
   "metadata": {},
   "outputs": [],
   "source": [
    "for mparams in model.parameters():\n",
    "    print(mparams)\n"
   ]
  },
  {
   "cell_type": "markdown",
   "metadata": {},
   "source": [
    "## Plot of the force field"
   ]
  },
  {
   "cell_type": "code",
   "execution_count": null,
   "metadata": {},
   "outputs": [],
   "source": [
    "# State space\n",
    "r = 4\n",
    "x = np.linspace(-r, r, 20)\n",
    "y = np.linspace(-r, r, 20)\n",
    "xs, ys = np.meshgrid(x, y)\n",
    "z = np.array([xs.flatten(), ys.flatten()]).T\n",
    "z = torch.tensor(z, dtype=torch.float32, requires_grad=True)\n",
    "\n",
    "# Signal function\n",
    "tcrit = 5\n",
    "p0 = [0, 0]\n",
    "p1 = [1, 1]\n",
    "signal_params = np.array([tcrit, *p0, *p1])\n",
    "signal_params = torch.tensor(signal_params, dtype=torch.float32)\n",
    "\n",
    "t = 0  # evaluation time\n",
    "f = model.f(t, z, signal_params)\n",
    "phi = model.phi(z).detach()\n",
    "f_arr = f.detach().numpy()\n",
    "u, v = f_arr.T\n",
    "norms = np.sqrt(u**2 + v**2)\n",
    "\n",
    "fig, ax = plt.subplots(1, 1, figsize=(6.4, 4.8))\n",
    "ax.set_xlabel(f\"$x$\")\n",
    "ax.set_ylabel(f\"$y$\")\n",
    "ax.set_title(f\"$f(x,y)$\")\n",
    "sc = ax.quiver(xs, ys, u/norms, v/norms, norms, cmap='jet')\n",
    "cbar = plt.colorbar(sc)\n",
    "cbar.ax.set_title(\"$\\|f\\|$\", size=10)\n",
    "cbar.ax.tick_params(labelsize=8)\n",
    "\n",
    "fig, ax = plt.subplots(subplot_kw={\"projection\": \"3d\"})\n",
    "ax.set_xlabel(f\"$x$\")\n",
    "ax.set_ylabel(f\"$y$\")\n",
    "ax.set_title(f\"$\\phi(x,y)$\")\n",
    "ax.plot_surface(xs, ys, phi.reshape(xs.shape), cmap='coolwarm')\n",
    "ax.view_init(20, 45)"
   ]
  },
  {
   "cell_type": "code",
   "execution_count": null,
   "metadata": {},
   "outputs": [],
   "source": [
    "ttensor = torch.tensor([0, 10], dtype=torch.float32, requires_grad=True)\n",
    "y0 = torch.rand([100, 2], dtype=torch.float32, requires_grad=True).flatten()\n",
    "ptensor = torch.tensor([5, 0, 0, 1, 1], dtype=torch.float32, requires_grad=True)\n",
    "xinput = torch.concatenate([ttensor, y0, ptensor])\n",
    "z, z_hist = model.simulate_forward(xinput, dt=1e-3, history=True)"
   ]
  },
  {
   "cell_type": "code",
   "execution_count": null,
   "metadata": {},
   "outputs": [],
   "source": [
    "# State space\n",
    "r = 4\n",
    "x = np.linspace(-r, r, 20)\n",
    "y = np.linspace(-r, r, 20)\n",
    "xs, ys = np.meshgrid(x, y)\n",
    "z = np.array([xs.flatten(), ys.flatten()]).T\n",
    "z = torch.tensor(z, dtype=torch.float32, requires_grad=True)\n",
    "\n",
    "# Signal function\n",
    "p_arr = ptensor.detach().numpy()\n",
    "tcrit = p_arr[0]\n",
    "p0 = p_arr[1:3]\n",
    "p1 = p_arr[3:5]\n",
    "signal_params = np.array([tcrit, *p0, *p1])\n",
    "signal_params = torch.tensor(signal_params, dtype=torch.float32)\n",
    "\n",
    "\n",
    "tvals = np.linspace(0, 10, len(z_hist))\n",
    "for i, t in enumerate(tvals):\n",
    "    if i % 100 != 0:\n",
    "        continue\n",
    "    f = model.f(t, z, signal_params)\n",
    "    phi = model.phi(z).detach()\n",
    "    f_arr = f.detach().numpy()\n",
    "    u, v = f_arr.T\n",
    "    norms = np.sqrt(u**2 + v**2)\n",
    "\n",
    "    fig, ax = plt.subplots(1, 1, figsize=(6.4, 4.8))\n",
    "    ax.set_xlabel(f\"$x$\")\n",
    "    ax.set_ylabel(f\"$y$\")\n",
    "    ax.set_title(f\"$f(x,y), t={t:.4f}$\")\n",
    "    sc = ax.quiver(xs, ys, u/norms, v/norms, norms, cmap='jet')\n",
    "    cbar = plt.colorbar(sc)\n",
    "    cbar.ax.set_title(\"$\\|f\\|$\", size=10)\n",
    "    cbar.ax.tick_params(labelsize=8)\n",
    "    outdir = \"out/snaps\"\n",
    "\n",
    "    ax.scatter(z_hist[i][:,0], z_hist[i][:,1], s=1)\n",
    "\n",
    "    plt.savefig(f\"{outdir}/frame{i}.png\")\n",
    "    plt.close()"
   ]
  },
  {
   "cell_type": "code",
   "execution_count": null,
   "metadata": {},
   "outputs": [],
   "source": [
    "for idx in range(40):\n",
    "    ztraj = np.array([zi[idx] for zi in z_hist]).T\n",
    "    plt.plot(ztraj[0,0], ztraj[1,0], 'r.')\n",
    "    plt.plot(ztraj[0,0:ztraj.shape[1]//2], ztraj[1,0:ztraj.shape[1]//2], 'k')\n",
    "    plt.plot(ztraj[0,ztraj.shape[1]//2:], ztraj[1,ztraj.shape[1]//2:], 'b')"
   ]
  },
  {
   "cell_type": "code",
   "execution_count": null,
   "metadata": {},
   "outputs": [],
   "source": [
    "list(model.parameters())[6]"
   ]
  },
  {
   "cell_type": "code",
   "execution_count": null,
   "metadata": {},
   "outputs": [],
   "source": [
    "from animator import SimulationAnimator\n",
    "\n",
    "simdir = \"data/model_training_data/sim0\"\n",
    "ani = SimulationAnimator(\n",
    "    ts=np.load(f\"{simdir}/ts.npy\"),\n",
    "    xys=np.load(f\"{simdir}/xs.npy\")\n",
    ")\n",
    "\n",
    "ani.animate('delme');"
   ]
  },
  {
   "cell_type": "code",
   "execution_count": null,
   "metadata": {},
   "outputs": [],
   "source": []
  }
 ],
 "metadata": {
  "kernelspec": {
   "display_name": "Python 3",
   "language": "python",
   "name": "python3"
  },
  "language_info": {
   "codemirror_mode": {
    "name": "ipython",
    "version": 3
   },
   "file_extension": ".py",
   "mimetype": "text/x-python",
   "name": "python",
   "nbconvert_exporter": "python",
   "pygments_lexer": "ipython3",
   "version": "3.11.5"
  }
 },
 "nbformat": 4,
 "nbformat_minor": 2
}
