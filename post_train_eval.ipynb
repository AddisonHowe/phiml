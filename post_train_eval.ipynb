{
 "cells": [
  {
   "cell_type": "code",
   "execution_count": null,
   "metadata": {},
   "outputs": [],
   "source": [
    "from IPython.display import HTML\n",
    "import os\n",
    "import numpy as np\n",
    "import matplotlib.pyplot as plt\n",
    "import torch\n",
    "from model import PhiNN\n",
    "from dataset import LandscapeSimulationDataset\n",
    "from helpers import jump_function"
   ]
  },
  {
   "cell_type": "code",
   "execution_count": null,
   "metadata": {},
   "outputs": [],
   "source": [
    "MODEL = \"model6582778\""
   ]
  },
  {
   "cell_type": "code",
   "execution_count": null,
   "metadata": {},
   "outputs": [],
   "source": [
    "MODELDIR = f\"models/{MODEL}\"\n",
    "OUTDIR = f\"out/model_analysis/{MODEL}\"\n",
    "\n",
    "os.makedirs(OUTDIR, exist_ok=True)"
   ]
  },
  {
   "cell_type": "code",
   "execution_count": null,
   "metadata": {},
   "outputs": [],
   "source": [
    "ARGS_TO_LOAD = {\n",
    "    'ndims', 'nsigs', 'ncells', 'hidden_dims', 'hidden_acts', 'final_act', \n",
    "    'layer_normalize', 'infer_noise', 'sigma', 'dtype', \n",
    "    'training_data', 'validation_data', 'nsims_training', 'nsims_validation',\n",
    "}\n",
    "\n",
    "def load_args_from_log(logfilepath, args_to_load=ARGS_TO_LOAD):\n",
    "    args = {}\n",
    "    with open(logfilepath, 'r') as f:\n",
    "        for line in f.readlines():\n",
    "            line = line[0:-1]  # remove \\n\n",
    "            line = line.split(\" : \")  # try to split into key, val pair\n",
    "            if len(line) == 2:\n",
    "                key, val = line\n",
    "                if key in args_to_load:\n",
    "                    args[key] = eval(val)\n",
    "    return args\n",
    "\n",
    "def load_model_directory(modeldir, modelname):\n",
    "    loss_hist_train = np.load(f\"{modeldir}/training_loss_history.npy\")\n",
    "    loss_hist_valid = np.load(f\"{modeldir}/validation_loss_history.npy\")\n",
    "\n",
    "    ncells = int(np.genfromtxt(f\"{modeldir}/ncells.txt\"))\n",
    "    sigma = float(np.genfromtxt(f\"{modeldir}/sigma.txt\"))\n",
    "\n",
    "    best_idx = np.argmin(loss_hist_valid)\n",
    "    model_fpath = f\"{modeldir}/{modelname}_{best_idx}.pth\"\n",
    "    print(f\"Best model: {model_fpath}\")\n",
    "\n",
    "    modelargs = load_args_from_log(f\"{modeldir}/log_args.txt\")\n",
    "    print(\"Args:\", modelargs)\n",
    "\n",
    "    f_signal = lambda t, p: jump_function(t, p[...,0], p[...,1:3], p[...,3:])\n",
    "    model = PhiNN(\n",
    "        ndim=modelargs['ndims'], nsig=modelargs['nsigs'], \n",
    "        f_signal=f_signal, nsigparams=5,\n",
    "        ncells=ncells,\n",
    "        hidden_dims=modelargs['hidden_dims'],\n",
    "        hidden_acts=modelargs['hidden_acts'],\n",
    "        final_act=modelargs['final_act'],\n",
    "        layer_normalize=modelargs['layer_normalize'],\n",
    "        infer_noise=modelargs['infer_noise'],\n",
    "        sigma=modelargs['sigma'],\n",
    "        device='cpu',\n",
    "        dtype=torch.float32 if modelargs['dtype']=='float32' else torch.float64,\n",
    "        sample_cells=True,\n",
    "    )\n",
    "\n",
    "    model.load_state_dict(torch.load(model_fpath, \n",
    "                                     map_location=torch.device('cpu')))\n",
    "    model.eval();\n",
    "\n",
    "    return model, modelargs, loss_hist_train, loss_hist_valid\n",
    "\n",
    "def plot_training_loss_history(loss_hist_train, saveas=None):\n",
    "    fig, ax = plt.subplots(1, 1)\n",
    "    ax.plot(1+np.arange(len(loss_hist_train)), loss_hist_train, '.-')\n",
    "    ax.set_xlabel(f\"epoch\")\n",
    "    ax.set_ylabel(f\"loss\")\n",
    "    ax.set_title(f\"Training Loss\")\n",
    "    if saveas: plt.savefig(saveas)\n",
    "    return ax\n",
    "\n",
    "def plot_validation_loss_history(loss_hist_valid, saveas=None):\n",
    "    fig, ax = plt.subplots(1, 1)\n",
    "    ax.plot(1+np.arange(len(loss_hist_valid)), loss_hist_valid, '.-')\n",
    "    ax.set_xlabel(f\"epoch\")\n",
    "    ax.set_ylabel(f\"loss\")\n",
    "    ax.set_title(f\"Validation Loss\")\n",
    "    if saveas: plt.savefig(saveas)\n",
    "    return ax"
   ]
  },
  {
   "cell_type": "code",
   "execution_count": null,
   "metadata": {},
   "outputs": [],
   "source": [
    "model, model_args, loss_hist_train, loss_hist_valid = load_model_directory(\n",
    "    MODELDIR, MODEL\n",
    ")"
   ]
  },
  {
   "cell_type": "code",
   "execution_count": null,
   "metadata": {},
   "outputs": [],
   "source": [
    "print(\"*** Model Parameters ***\")\n",
    "print(f\"Sigma: {np.exp(model.logsigma.item()):.4g}\")\n",
    "print(f\"Tilt map:\\n{list(model.tilt_nn.parameters())[0].detach().numpy()}\")"
   ]
  },
  {
   "cell_type": "code",
   "execution_count": null,
   "metadata": {},
   "outputs": [],
   "source": [
    "plot_training_loss_history(loss_hist_train, \n",
    "                           saveas=f\"{OUTDIR}/loss_hist_training.png\");\n",
    "plot_validation_loss_history(loss_hist_valid,\n",
    "                             saveas=f\"{OUTDIR}/loss_hist_validation.png\");"
   ]
  },
  {
   "cell_type": "code",
   "execution_count": null,
   "metadata": {},
   "outputs": [],
   "source": [
    "model.plot_phi(\n",
    "    r=2, res=100, show=True, normalize=True, log_normalize=False,\n",
    "    saveas=f\"{OUTDIR}/phi_heatmap.png\"\n",
    ");"
   ]
  },
  {
   "cell_type": "code",
   "execution_count": null,
   "metadata": {},
   "outputs": [],
   "source": [
    "model.plot_phi(\n",
    "    r=2, res=100, show=True, normalize=True, log_normalize=False,\n",
    "    plot3d=True,\n",
    "    saveas=f\"{OUTDIR}/phi_landscape.png\"\n",
    ");"
   ]
  },
  {
   "cell_type": "code",
   "execution_count": null,
   "metadata": {},
   "outputs": [],
   "source": [
    "sig = [0, 0]\n",
    "model.plot_f(\n",
    "    signal=sig, r=2, res=20, show=True,\n",
    "    title=f\"$\\\\vec{{F}}(x,y|\\\\vec{{s}}=\\\\langle{sig[0]:.2g},{sig[1]:.2g}\\\\rangle)$\",\n",
    "    cbar_title=\"$|\\\\vec{F}|$\",\n",
    "    saveas=f\"{OUTDIR}/f_plot.png\"\n",
    ");"
   ]
  },
  {
   "cell_type": "markdown",
   "metadata": {},
   "source": [
    "## Examine training and validation datasets"
   ]
  },
  {
   "cell_type": "code",
   "execution_count": null,
   "metadata": {},
   "outputs": [],
   "source": [
    "datdir_train = model_args['training_data']\n",
    "datdir_valid = model_args['validation_data']\n",
    "nsims_train = model_args['nsims_training']\n",
    "nsims_valid = model_args['nsims_validation']"
   ]
  },
  {
   "cell_type": "code",
   "execution_count": null,
   "metadata": {},
   "outputs": [],
   "source": [
    "train_dataset = LandscapeSimulationDataset(\n",
    "    datdir_train, nsims_train, model_args['ndims'], \n",
    "    transform='tensor', \n",
    "    target_transform='tensor'\n",
    ")\n",
    "\n",
    "validation_dataset = LandscapeSimulationDataset(\n",
    "    datdir_valid, nsims_valid, model_args['ndims'], \n",
    "    transform='tensor', \n",
    "    target_transform='tensor'\n",
    ")"
   ]
  },
  {
   "cell_type": "markdown",
   "metadata": {},
   "source": [
    "We can preview an individual training datum, which consists of a distribution of cells $X_0\\in\\mathbb{R}^{n\\times d}$ at time $t_0$, and a subsequent distribution of cells $X_1\\in\\mathbb{R}^{n\\times d}$ at time $t_1$, along with parameters $\\vec{p}\\in\\mathbb{R}^{n_{p}}$, where $n$ is the number of cells, $d$ the dimension of the cells, and $n_p$ the number of parameters that parameterize the signal function $f_{sig}(t,\\cdot)$.\n"
   ]
  },
  {
   "cell_type": "code",
   "execution_count": null,
   "metadata": {},
   "outputs": [],
   "source": [
    "idx = 0\n",
    "r = 2\n",
    "train_dataset.preview(idx, xlims=[-r,r], ylims=[-r,r]);"
   ]
  },
  {
   "cell_type": "markdown",
   "metadata": {},
   "source": [
    "We can view an animation of a full simulation, which consists of many consecutive time point pairs"
   ]
  },
  {
   "cell_type": "code",
   "execution_count": null,
   "metadata": {},
   "outputs": [],
   "source": [
    "simidx = 0\n",
    "r = 2\n",
    "ani = train_dataset.animate(\n",
    "    simidx, xlims=[-r, r], ylims=[-r,r], \n",
    "    show=False\n",
    ")"
   ]
  },
  {
   "cell_type": "code",
   "execution_count": null,
   "metadata": {},
   "outputs": [],
   "source": [
    "HTML(ani)"
   ]
  },
  {
   "cell_type": "markdown",
   "metadata": {},
   "source": [
    "## Examine models"
   ]
  },
  {
   "cell_type": "markdown",
   "metadata": {},
   "source": [
    "## Plot of the force field"
   ]
  },
  {
   "cell_type": "code",
   "execution_count": null,
   "metadata": {},
   "outputs": [],
   "source": [
    "# State space\n",
    "r = 2\n",
    "x = np.linspace(-r, r, 20)\n",
    "y = np.linspace(-r, r, 20)\n",
    "xs, ys = np.meshgrid(x, y)\n",
    "z = np.array([xs.flatten(), ys.flatten()]).T\n",
    "z = torch.tensor([z], dtype=torch.float32, requires_grad=True)\n",
    "\n",
    "# Signal function\n",
    "tcrit = 0\n",
    "p0 = [0, 0]\n",
    "p1 = [0, 1]\n",
    "\n",
    "# Evaluation time\n",
    "t = 0\n",
    "\n",
    "signal_params = np.array([tcrit, *p0, *p1])\n",
    "signal_params = torch.tensor([signal_params], dtype=torch.float32)\n",
    "\n",
    "f = model.f(torch.tensor([t], dtype=torch.float32), z, signal_params)\n",
    "grad_phi = -model.grad_phi(torch.tensor([t], dtype=torch.float32), z).detach()\n",
    "phi = model.phi(z).detach()\n",
    "\n",
    "f_arr = f.detach().numpy()\n",
    "fu, fv = f_arr.T\n",
    "fnorms = np.sqrt(fu**2 + fv**2)\n",
    "\n",
    "grad_phi_arr = grad_phi.detach().numpy()\n",
    "gphiu, gphiv = grad_phi_arr.T\n",
    "gphinorms = np.sqrt(gphiu**2 + gphiv**2)\n",
    "\n",
    "# Plot force field generated by the landscape (untilted)\n",
    "fig, ax = plt.subplots(1, 1)\n",
    "ax.set_xlabel(f\"$x$\")\n",
    "ax.set_ylabel(f\"$y$\")\n",
    "ax.set_title(f\"$-\\\\nabla\\phi(x,y)$\")\n",
    "sc = ax.quiver(xs, ys, gphiu/gphinorms, gphiv/gphinorms, gphinorms, cmap='jet')\n",
    "cbar = plt.colorbar(sc)\n",
    "cbar.ax.set_title(\"$\\|-\\\\nabla\\phi\\|$\", size=10)\n",
    "cbar.ax.tick_params(labelsize=8)\n",
    "\n",
    "# Plot force field, tilted by signals\n",
    "fig, ax = plt.subplots(1, 1)\n",
    "ax.set_xlabel(f\"$x$\")\n",
    "ax.set_ylabel(f\"$y$\")\n",
    "ax.set_title(f\"$f(x,y)$\")\n",
    "sc = ax.quiver(xs, ys, fu/fnorms, fv/fnorms, fnorms, cmap='jet')\n",
    "cbar = plt.colorbar(sc)\n",
    "cbar.ax.set_title(\"$\\|f\\|$\", size=10)\n",
    "cbar.ax.tick_params(labelsize=8)\n",
    "\n",
    "# Plot Landscape Phi\n",
    "fig, ax = plt.subplots(subplot_kw={\"projection\": \"3d\"})\n",
    "ax.set_xlabel(f\"$x$\")\n",
    "ax.set_ylabel(f\"$y$\")\n",
    "ax.set_title(f\"$\\phi(x,y)$\")\n",
    "ax.plot_surface(xs, ys, phi.reshape(xs.shape), cmap='coolwarm')\n",
    "ax.view_init(30, -45)"
   ]
  },
  {
   "cell_type": "code",
   "execution_count": null,
   "metadata": {},
   "outputs": [],
   "source": [
    "t0 = 0\n",
    "t1 = 10\n",
    "y0 = np.random.rand(ncells, 2)\n",
    "sigparams = [5, 0, 0, 1, 1]\n",
    "\n",
    "inputs = (\n",
    "    torch.tensor([t0], dtype=torch.float32),\n",
    "    torch.tensor([t1], dtype=torch.float32),\n",
    "    torch.tensor([y0], dtype=torch.float32, requires_grad=True),\n",
    "    torch.tensor([sigparams], dtype=torch.float32),\n",
    ")\n",
    "z, z_hist = model.simulate_forward(*inputs, dt=1e-1, history=True)"
   ]
  },
  {
   "cell_type": "code",
   "execution_count": null,
   "metadata": {},
   "outputs": [],
   "source": [
    "# State space\n",
    "r = 4\n",
    "x = np.linspace(-r, r, 20)\n",
    "y = np.linspace(-r, r, 20)\n",
    "xs, ys = np.meshgrid(x, y)\n",
    "z = np.array([xs.flatten(), ys.flatten()]).T\n",
    "z = torch.tensor([z], dtype=torch.float32, requires_grad=True)\n",
    "\n",
    "# Signal function\n",
    "tcrit = sigparams[0]\n",
    "p0 = sigparams[1:3]\n",
    "p1 = sigparams[3:5]\n",
    "sigparams_tensor = torch.tensor([sigparams], dtype=torch.float32)\n",
    "\n",
    "tvals = np.linspace(0, 10, len(z_hist))\n",
    "for i, t in enumerate(tvals):\n",
    "    if i % 10 != 0:\n",
    "        continue\n",
    "    f = model.f(torch.tensor([t]), z, sigparams_tensor)\n",
    "    phi = model.phi(z).detach()\n",
    "    f_arr = f.detach().numpy()\n",
    "    u, v = f_arr.T\n",
    "    norms = np.sqrt(u**2 + v**2)\n",
    "\n",
    "    fig, ax = plt.subplots(1, 1, figsize=(6.4, 4.8))\n",
    "    ax.set_xlabel(f\"$x$\")\n",
    "    ax.set_ylabel(f\"$y$\")\n",
    "    ax.set_title(f\"$f(x,y), t={t:.4f}$\")\n",
    "    sc = ax.quiver(xs, ys, u/norms, v/norms, norms, cmap='jet')\n",
    "    cbar = plt.colorbar(sc)\n",
    "    cbar.ax.set_title(\"$\\|f\\|$\", size=10)\n",
    "    cbar.ax.tick_params(labelsize=8)\n",
    "    outdir = \"out/snaps\"\n",
    "\n",
    "    ax.scatter(z_hist[i][0,:,0], z_hist[i][0,:,1], s=1)\n",
    "\n",
    "    plt.savefig(f\"{outdir}/frame{i}.png\")\n",
    "    plt.close()"
   ]
  },
  {
   "cell_type": "code",
   "execution_count": null,
   "metadata": {},
   "outputs": [],
   "source": [
    "batch_idx = 0\n",
    "\n",
    "fig, ax = plt.subplots(1, 1)\n",
    "changeidx = np.argmin(np.abs(tvals-tcrit))\n",
    "for idx in range(40):\n",
    "    ztraj = np.array([zi[batch_idx, idx] for zi in z_hist]).T\n",
    "    ax.plot(ztraj[0,0], ztraj[1,0], 'r.')\n",
    "    ax.plot(ztraj[0,changeidx], ztraj[1,changeidx], 'y*')\n",
    "    ax.plot(ztraj[0,-1], ztraj[1,-1], 'co', markersize=4)\n",
    "    ax.plot(ztraj[0], ztraj[1], 'k', alpha=0.25)\n",
    "\n",
    "ax.legend(['start', 'signal change', 'end']);"
   ]
  },
  {
   "cell_type": "code",
   "execution_count": null,
   "metadata": {},
   "outputs": [],
   "source": [
    "# from animator import SimulationAnimator\n",
    "\n",
    "# simdir = \"data/model_training_data/sim0\"\n",
    "# ani = SimulationAnimator(\n",
    "#     ts=np.load(f\"{simdir}/ts.npy\"),\n",
    "#     xys=np.load(f\"{simdir}/xs.npy\")\n",
    "# )\n",
    "\n",
    "# ani.animate('delme');"
   ]
  },
  {
   "cell_type": "markdown",
   "metadata": {},
   "source": [
    "## Comparison between data and prediction\n",
    "\n",
    "Compare the learned landscape $\\phi$ with the true landscape that generated the data,\n",
    "$$\\phi^*(x,y)=x^4+y^4+y^3-4x^2y+y^2-p_1x+p_2y$$\n",
    "where we fix $p_1=p_2=0$ to define the untilted, *underlying* landscape.\n"
   ]
  },
  {
   "cell_type": "code",
   "execution_count": null,
   "metadata": {},
   "outputs": [],
   "source": [
    "def func_phi_star(x, y, p1=0, p2=0):\n",
    "    return x**4 + y**4 + y**3 - 4*x*x*y + y*y - p1*x + p2*y"
   ]
  },
  {
   "cell_type": "code",
   "execution_count": null,
   "metadata": {},
   "outputs": [],
   "source": [
    "r = 4  # box radius\n",
    "res = 200  # resolution\n",
    "\n",
    "signal = [0, 0]  # signal\n",
    "\n",
    "tt = torch.tensor([t])\n",
    "signal_params = np.array([10, *signal, 0, 0])\n",
    "signal_params = torch.tensor([signal_params], dtype=torch.float32)\n",
    "\n",
    "x = np.linspace(-r, r, res)\n",
    "y = np.linspace(-r, r, res)\n",
    "xs, ys = np.meshgrid(x, y)\n",
    "z = np.array([xs.flatten(), ys.flatten()]).T\n",
    "z = torch.tensor([z], dtype=torch.float32, requires_grad=True)\n",
    "\n",
    "phi = model.phi(z).detach()\n",
    "phi_star = func_phi_star(xs, ys)\n",
    "\n",
    "phi = np.log(1 + phi - phi.min())\n",
    "phi_star = np.log(1 + phi_star - phi_star.min())\n",
    "\n",
    "fig, axes = plt.subplots(1, 2, figsize=(10,4))\n",
    "\n",
    "# Plot inferred landscape\n",
    "ax = axes[0]\n",
    "sc = ax.pcolormesh(\n",
    "    xs, ys, phi.reshape(xs.shape), \n",
    "    cmap='RdBu', \n",
    "    vmin=phi.min(), vmax=phi.max()\n",
    ")\n",
    "\n",
    "ax.set_xlabel(f\"$x$\")\n",
    "ax.set_ylabel(f\"$y$\")\n",
    "ax.set_title(f\"Inferred landscape $\\phi$\")\n",
    "\n",
    "cbar = plt.colorbar(sc)\n",
    "cbar.ax.set_title(\"$\\log\\phi$\", size=10)\n",
    "cbar.ax.tick_params(labelsize=8)\n",
    "\n",
    "# Plot true landscape\n",
    "ax = axes[1]\n",
    "sc = ax.pcolormesh(\n",
    "    xs, ys, phi_star.reshape(xs.shape), \n",
    "    cmap='RdBu', \n",
    "    vmin=phi_star.min(), vmax=phi_star.max()\n",
    ")\n",
    "\n",
    "ax.set_xlabel(f\"$x$\")\n",
    "ax.set_ylabel(f\"$y$\")\n",
    "ax.set_title(f\"True landscape $\\phi^*$\")\n",
    "\n",
    "cbar = plt.colorbar(sc)\n",
    "cbar.ax.set_title(\"$\\log\\phi^*$\", size=10)\n",
    "cbar.ax.tick_params(labelsize=8)\n"
   ]
  },
  {
   "cell_type": "code",
   "execution_count": null,
   "metadata": {},
   "outputs": [],
   "source": [
    "r = 5  # box radius\n",
    "res = 200  # resolution\n",
    "signal = [0, 0]  # signal\n",
    "\n",
    "tt = torch.tensor([0])\n",
    "signal_params = np.array([10, *signal, 0, 0])\n",
    "signal_params = torch.tensor([signal_params], dtype=torch.float32)\n",
    "\n",
    "x = np.linspace(-r, r, res)\n",
    "y = np.linspace(-r, r, res)\n",
    "xs, ys = np.meshgrid(x, y)\n",
    "z = np.array([xs.flatten(), ys.flatten()]).T\n",
    "z = torch.tensor([z], dtype=torch.float32, requires_grad=True)\n",
    "\n",
    "phi = model.phi(z).detach().numpy()[0]\n",
    "tilt = model.grad_tilt(tt, signal_params).detach().numpy()[0]\n",
    "phi = phi.reshape(xs.shape) + xs*tilt[0] + ys*tilt[1]\n",
    "\n",
    "phi_star = func_phi_star(xs, ys, signal[0], signal[1])\n",
    "\n",
    "# Normalize the landscapes to have unit minimum\n",
    "phi = np.log(1 + phi - phi.min())\n",
    "phi_star = np.log(1 + phi_star - phi_star.min())\n",
    "\n",
    "fig, axes = plt.subplots(1, 2, figsize=(10,4))\n",
    "\n",
    "# Plot inferred landscape (TILTED)\n",
    "ax = axes[0]\n",
    "sc = ax.pcolormesh(\n",
    "    xs, ys, phi.reshape(xs.shape), \n",
    "    cmap='RdBu', \n",
    "    vmin=phi.min(), vmax=phi.max()\n",
    ")\n",
    "\n",
    "ax.set_xlabel(f\"$x$\")\n",
    "ax.set_ylabel(f\"$y$\")\n",
    "ax.set_title(f\"Inferred landscape $\\phi$\")\n",
    "\n",
    "cbar = plt.colorbar(sc)\n",
    "cbar.ax.set_title(\"$\\log\\phi$\", size=10)\n",
    "cbar.ax.tick_params(labelsize=8)\n",
    "\n",
    "# Plot true landscape (TILTED)\n",
    "ax = axes[1]\n",
    "sc = ax.pcolormesh(\n",
    "    xs, ys, phi_star.reshape(xs.shape), \n",
    "    cmap='RdBu', \n",
    "    vmin=phi_star.min(), vmax=phi_star.max()\n",
    ")\n",
    "\n",
    "ax.set_xlabel(f\"$x$\")\n",
    "ax.set_ylabel(f\"$y$\")\n",
    "ax.set_title(f\"True landscape $\\phi^*$\")\n",
    "\n",
    "cbar = plt.colorbar(sc)\n",
    "cbar.ax.set_title(\"$\\log\\phi^*$\", size=10)\n",
    "cbar.ax.tick_params(labelsize=8)\n"
   ]
  },
  {
   "cell_type": "code",
   "execution_count": null,
   "metadata": {},
   "outputs": [],
   "source": [
    "tilt_params = list(model.tilt_nn.parameters())\n",
    "print(tilt_params)"
   ]
  },
  {
   "cell_type": "code",
   "execution_count": null,
   "metadata": {},
   "outputs": [],
   "source": [
    "print(torch.exp(model.logsigma))"
   ]
  },
  {
   "cell_type": "code",
   "execution_count": null,
   "metadata": {},
   "outputs": [],
   "source": []
  },
  {
   "cell_type": "code",
   "execution_count": null,
   "metadata": {},
   "outputs": [],
   "source": []
  }
 ],
 "metadata": {
  "kernelspec": {
   "display_name": "Python 3",
   "language": "python",
   "name": "python3"
  },
  "language_info": {
   "codemirror_mode": {
    "name": "ipython",
    "version": 3
   },
   "file_extension": ".py",
   "mimetype": "text/x-python",
   "name": "python",
   "nbconvert_exporter": "python",
   "pygments_lexer": "ipython3",
   "version": "3.8.18"
  }
 },
 "nbformat": 4,
 "nbformat_minor": 2
}
