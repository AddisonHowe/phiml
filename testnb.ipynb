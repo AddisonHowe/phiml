{
 "cells": [
  {
   "cell_type": "code",
   "execution_count": null,
   "metadata": {},
   "outputs": [],
   "source": [
    "import numpy as np\n",
    "import torch\n",
    "from torch.utils.data import DataLoader\n",
    "from dataset import LandscapeSimulationDataset\n",
    "from model import PhiNN\n",
    "from model_training import train_model\n",
    "from helpers import select_device, jump_function, mean_cov_loss, kl_divergence_est"
   ]
  },
  {
   "cell_type": "code",
   "execution_count": null,
   "metadata": {},
   "outputs": [],
   "source": [
    "outdir = \"out/testing\"\n",
    "dtype = torch.float64\n",
    "device = 'cpu'"
   ]
  },
  {
   "cell_type": "code",
   "execution_count": null,
   "metadata": {},
   "outputs": [],
   "source": [
    "datdir_train = \"data/model_training_data_2\"\n",
    "datdir_valid = \"data/model_validation_data_2\"\n",
    "\n",
    "nsims_train = 10\n",
    "nsims_valid = 5\n",
    "ndims = 2\n",
    "nsigs = 2\n",
    "ncells = 100\n",
    "dt = 1e-1\n",
    "sigma = 1e-2\n",
    "\n",
    "batch_size = 4"
   ]
  },
  {
   "cell_type": "code",
   "execution_count": null,
   "metadata": {},
   "outputs": [],
   "source": [
    "train_dataset = LandscapeSimulationDataset(\n",
    "    datdir_train, nsims_train, ndims, \n",
    "    transform='tensor', \n",
    "    target_transform='tensor',\n",
    "    dtype=dtype,\n",
    ")\n",
    "\n",
    "validation_dataset = LandscapeSimulationDataset(\n",
    "    datdir_valid, nsims_valid, ndims, \n",
    "    transform='tensor', \n",
    "    target_transform='tensor',\n",
    "    dtype=dtype,\n",
    ")\n",
    "\n",
    "train_dataloader = DataLoader(\n",
    "    train_dataset, \n",
    "    batch_size=batch_size, \n",
    "    shuffle=True\n",
    ")\n",
    "\n",
    "validation_dataloader = DataLoader(\n",
    "    validation_dataset, \n",
    "    batch_size=batch_size, \n",
    "    shuffle=False\n",
    ")\n",
    "\n",
    "print(\"Training Dataset Length:\", len(train_dataset))\n",
    "print(\"Validation Dataset Length:\", len(validation_dataset))\n",
    "print(\"Training DataLoader Length:\", len(train_dataloader))\n",
    "print(\"Validation DataLoader Length:\", len(validation_dataloader))"
   ]
  },
  {
   "cell_type": "code",
   "execution_count": null,
   "metadata": {},
   "outputs": [],
   "source": [
    "# Construct the model\n",
    "f_signal = lambda t, p: jump_function(t, p[...,0], p[...,1:3], p[...,3:])\n",
    "model = PhiNN(\n",
    "    ndim=ndims, nsig=nsigs, \n",
    "    f_signal=f_signal, nsigparams=5,\n",
    "    ncells=ncells, \n",
    "    infer_noise=True,\n",
    "    sigma=sigma,\n",
    "    device=device,\n",
    "    dtype=dtype,\n",
    "    sample_cells=True,\n",
    ").to(device)\n",
    "\n",
    "# loss_fn = mean_cov_loss\n",
    "loss_fn = kl_divergence_est\n",
    "\n",
    "learning_rate = 1e-2\n",
    "momentum = 0.9\n",
    "\n",
    "optimizer = torch.optim.SGD(\n",
    "    model.parameters(), \n",
    "    lr=learning_rate, \n",
    "    momentum=momentum\n",
    ")"
   ]
  },
  {
   "cell_type": "code",
   "execution_count": null,
   "metadata": {},
   "outputs": [],
   "source": [
    "train_model(\n",
    "    model, dt, loss_fn, optimizer, \n",
    "    train_dataloader, validation_dataloader,\n",
    "    num_epochs=2,\n",
    "    batch_size=batch_size,\n",
    "    device=device,\n",
    "    dtype=dtype,\n",
    "    model_name='testmodel',\n",
    "    outdir=outdir,\n",
    ")"
   ]
  },
  {
   "cell_type": "code",
   "execution_count": null,
   "metadata": {},
   "outputs": [],
   "source": []
  }
 ],
 "metadata": {
  "kernelspec": {
   "display_name": "Python 3",
   "language": "python",
   "name": "python3"
  },
  "language_info": {
   "codemirror_mode": {
    "name": "ipython",
    "version": 3
   },
   "file_extension": ".py",
   "mimetype": "text/x-python",
   "name": "python",
   "nbconvert_exporter": "python",
   "pygments_lexer": "ipython3",
   "version": "3.11.5"
  }
 },
 "nbformat": 4,
 "nbformat_minor": 2
}
