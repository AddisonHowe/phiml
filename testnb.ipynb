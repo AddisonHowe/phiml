{
 "cells": [
  {
   "cell_type": "code",
   "execution_count": 2,
   "metadata": {},
   "outputs": [],
   "source": [
    "import numpy as np\n",
    "import torch\n",
    "from torch.utils.data import DataLoader\n",
    "from dataset import LandscapeSimulationDataset\n",
    "from model import PhiNN\n",
    "from model_training import train_model\n",
    "from helpers import select_device, jump_function, mean_cov_loss"
   ]
  },
  {
   "cell_type": "code",
   "execution_count": 3,
   "metadata": {},
   "outputs": [
    {
     "name": "stdout",
     "output_type": "stream",
     "text": [
      "Using device: cpu\n"
     ]
    }
   ],
   "source": [
    "outdir = \"out/testing\"\n",
    "dtype = torch.float32\n",
    "device = select_device()\n",
    "print(f\"Using device: {device}\")"
   ]
  },
  {
   "cell_type": "code",
   "execution_count": 4,
   "metadata": {},
   "outputs": [],
   "source": [
    "datdir_train = \"data/model_training_data\"\n",
    "datdir_valid = \"data/model_validation_data\"\n",
    "\n",
    "nsims_train = 2\n",
    "nsims_valid = 1\n",
    "ndims = 2\n",
    "nsigs = 2\n",
    "ncells = 100\n",
    "dt = 1e-3\n",
    "sigma = 1e-3\n",
    "\n",
    "batch_size = 2"
   ]
  },
  {
   "cell_type": "code",
   "execution_count": 5,
   "metadata": {},
   "outputs": [
    {
     "name": "stdout",
     "output_type": "stream",
     "text": [
      "Training Dataset Length: 200\n",
      "Validation Dataset Length: 100\n",
      "Training DataLoader Length: 100\n",
      "Validation DataLoader Length: 50\n"
     ]
    }
   ],
   "source": [
    "train_dataset = LandscapeSimulationDataset(\n",
    "    datdir_train, nsims_train, ndims, \n",
    "    transform='tensor', \n",
    "    target_transform='tensor',\n",
    "    dtype=dtype,\n",
    ")\n",
    "\n",
    "validation_dataset = LandscapeSimulationDataset(\n",
    "    datdir_valid, nsims_valid, ndims, \n",
    "    transform='tensor', \n",
    "    target_transform='tensor',\n",
    "    dtype=dtype,\n",
    ")\n",
    "\n",
    "train_dataloader = DataLoader(\n",
    "    train_dataset, \n",
    "    batch_size=batch_size, \n",
    "    shuffle=True\n",
    ")\n",
    "\n",
    "validation_dataloader = DataLoader(\n",
    "    validation_dataset, \n",
    "    batch_size=batch_size, \n",
    "    shuffle=False\n",
    ")\n",
    "\n",
    "print(\"Training Dataset Length:\", len(train_dataset))\n",
    "print(\"Validation Dataset Length:\", len(validation_dataset))\n",
    "print(\"Training DataLoader Length:\", len(train_dataloader))\n",
    "print(\"Validation DataLoader Length:\", len(validation_dataloader))"
   ]
  },
  {
   "cell_type": "code",
   "execution_count": 6,
   "metadata": {},
   "outputs": [],
   "source": [
    "# Construct the model\n",
    "f_signal = lambda t, p: jump_function(t, p[...,0], p[...,1:3], p[...,3:])\n",
    "model = PhiNN(\n",
    "    ndim=ndims, nsig=nsigs, f_signal=f_signal, \n",
    "    ncells=ncells, \n",
    "    sigma=sigma,\n",
    "    device=device,\n",
    "    dtype=dtype,\n",
    ").to(device)\n",
    "\n",
    "loss_fn = mean_cov_loss\n",
    "\n",
    "learning_rate = 1e-2\n",
    "momentum = 0.9\n",
    "\n",
    "optimizer = torch.optim.SGD(\n",
    "    model.parameters(), \n",
    "    lr=learning_rate, \n",
    "    momentum=momentum\n",
    ")"
   ]
  },
  {
   "cell_type": "code",
   "execution_count": 7,
   "metadata": {},
   "outputs": [],
   "source": [
    "input, expected = next(iter(train_dataloader))"
   ]
  },
  {
   "cell_type": "code",
   "execution_count": 10,
   "metadata": {},
   "outputs": [
    {
     "name": "stdout",
     "output_type": "stream",
     "text": [
      "torch.Size([2, 207])\n",
      "torch.Size([2, 100, 2])\n"
     ]
    }
   ],
   "source": [
    "print(input.shape)\n",
    "print(expected.shape)"
   ]
  },
  {
   "cell_type": "code",
   "execution_count": 11,
   "metadata": {},
   "outputs": [],
   "source": [
    "from torch.profiler import profile, record_function, ProfilerActivity"
   ]
  },
  {
   "cell_type": "code",
   "execution_count": 12,
   "metadata": {},
   "outputs": [
    {
     "name": "stderr",
     "output_type": "stream",
     "text": [
      "[W kineto_shim.cpp:333] Adding profiling metadata requires using torch.profiler with Kineto support (USE_KINETO=1)\n",
      "[W kineto_shim.cpp:333] Adding profiling metadata requires using torch.profiler with Kineto support (USE_KINETO=1)\n"
     ]
    }
   ],
   "source": [
    "with profile(activities=[ProfilerActivity.CPU], \n",
    "             profile_memory=True, record_shapes=True) as prof:\n",
    "    model(input)\n",
    "    # train_model(\n",
    "    #     model, dt, loss_fn, optimizer, \n",
    "    #     train_dataloader, validation_dataloader,\n",
    "    #     num_epochs=1,\n",
    "    #     batch_size=batch_size,\n",
    "    #     device=device,\n",
    "    #     model_name='testmodel',\n",
    "    #     outdir=outdir,\n",
    "    # )"
   ]
  },
  {
   "cell_type": "code",
   "execution_count": 13,
   "metadata": {},
   "outputs": [
    {
     "name": "stdout",
     "output_type": "stream",
     "text": [
      "-------------------------------------------------------  ------------  ------------  ------------  ------------  ------------  ------------  ------------  ------------  \n",
      "                                                   Name    Self CPU %      Self CPU   CPU total %     CPU total  CPU time avg       CPU Mem  Self CPU Mem    # of Calls  \n",
      "-------------------------------------------------------  ------------  ------------  ------------  ------------  ------------  ------------  ------------  ------------  \n",
      "                                               aten::mm        21.16%      49.006ms        22.18%      51.366ms      42.805us       7.48 Mb       7.40 Mb          1200  \n",
      "                                            aten::addmm         8.79%      20.360ms        11.84%      27.432ms      27.432us       7.40 Mb       7.40 Mb          1000  \n",
      "                                         aten::softplus         8.67%      20.079ms         8.67%      20.079ms      25.099us       7.32 Mb       7.32 Mb           800  \n",
      "                                aten::softplus_backward        20.31%      47.036ms        20.31%      47.036ms      58.795us       7.32 Mb       7.32 Mb           800  \n",
      "                                      SoftplusBackward0         1.22%       2.836ms        21.12%      48.923ms      61.154us       7.32 Mb     568.75 Kb           800  \n",
      "                                              aten::add         2.03%       4.698ms         2.03%       4.698ms       5.872us     470.31 Kb     470.31 Kb           800  \n",
      "                                           aten::linear         2.86%       6.633ms        32.80%      75.976ms      63.313us       7.40 Mb     358.98 Kb          1200  \n",
      "                                              aten::mul         2.27%       5.254ms         5.91%      13.687ms      17.109us     315.95 Kb     312.68 Kb           800  \n",
      "                                            aten::empty         0.43%       1.005ms         0.43%       1.005ms       2.494us     209.77 Kb     209.77 Kb           403  \n",
      "                                              aten::neg         0.53%       1.223ms         0.53%       1.223ms       6.115us     156.25 Kb     156.25 Kb           200  \n",
      "-------------------------------------------------------  ------------  ------------  ------------  ------------  ------------  ------------  ------------  ------------  \n",
      "Self CPU time total: 231.615ms\n",
      "\n"
     ]
    }
   ],
   "source": [
    "print(prof.key_averages().table(sort_by=\"self_cpu_memory_usage\", row_limit=10))\n"
   ]
  },
  {
   "cell_type": "code",
   "execution_count": 14,
   "metadata": {},
   "outputs": [
    {
     "name": "stdout",
     "output_type": "stream",
     "text": [
      "-------------------------------------------------------  ------------  ------------  ------------  ------------  ------------  ------------  ------------  ------------  \n",
      "                                                   Name    Self CPU %      Self CPU   CPU total %     CPU total  CPU time avg       CPU Mem  Self CPU Mem    # of Calls  \n",
      "-------------------------------------------------------  ------------  ------------  ------------  ------------  ------------  ------------  ------------  ------------  \n",
      "                                               aten::mm        21.16%      49.006ms        22.18%      51.366ms      42.805us       7.48 Mb       7.40 Mb          1200  \n",
      "    autograd::engine::evaluate_function: AddmmBackward0         1.17%       2.707ms        17.13%      39.682ms      39.682us       7.48 Mb     -32.03 Kb          1000  \n",
      "                                         AddmmBackward0         2.17%       5.037ms        15.94%      36.912ms      36.912us       7.48 Mb      32.03 Kb          1000  \n",
      "                                           aten::linear         2.86%       6.633ms        32.80%      75.976ms      63.313us       7.40 Mb     358.98 Kb          1200  \n",
      "                                            aten::addmm         8.79%      20.360ms        11.84%      27.432ms      27.432us       7.40 Mb       7.40 Mb          1000  \n",
      "                                         aten::softplus         8.67%      20.079ms         8.67%      20.079ms      25.099us       7.32 Mb       7.32 Mb           800  \n",
      "autograd::engine::evaluate_function: SoftplusBackwar...         0.50%       1.150ms        22.03%      51.022ms      63.778us       7.32 Mb    -568.75 Kb           800  \n",
      "                                      SoftplusBackward0         1.22%       2.836ms        21.12%      48.923ms      61.154us       7.32 Mb     568.75 Kb           800  \n",
      "                                aten::softplus_backward        20.31%      47.036ms        20.31%      47.036ms      58.795us       7.32 Mb       7.32 Mb           800  \n",
      "                                              aten::add         2.03%       4.698ms         2.03%       4.698ms       5.872us     470.31 Kb     470.31 Kb           800  \n",
      "-------------------------------------------------------  ------------  ------------  ------------  ------------  ------------  ------------  ------------  ------------  \n",
      "Self CPU time total: 231.615ms\n",
      "\n"
     ]
    }
   ],
   "source": [
    "print(prof.key_averages().table(sort_by=\"cpu_memory_usage\", row_limit=10))\n"
   ]
  },
  {
   "cell_type": "code",
   "execution_count": null,
   "metadata": {},
   "outputs": [],
   "source": []
  }
 ],
 "metadata": {
  "kernelspec": {
   "display_name": "Python 3",
   "language": "python",
   "name": "python3"
  },
  "language_info": {
   "codemirror_mode": {
    "name": "ipython",
    "version": 3
   },
   "file_extension": ".py",
   "mimetype": "text/x-python",
   "name": "python",
   "nbconvert_exporter": "python",
   "pygments_lexer": "ipython3",
   "version": "3.8.18"
  }
 },
 "nbformat": 4,
 "nbformat_minor": 2
}
