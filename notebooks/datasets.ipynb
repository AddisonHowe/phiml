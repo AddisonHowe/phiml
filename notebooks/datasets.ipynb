{
 "cells": [
  {
   "cell_type": "markdown",
   "metadata": {},
   "source": [
    "# Exploration of *in silico* datasets"
   ]
  },
  {
   "cell_type": "code",
   "execution_count": null,
   "metadata": {},
   "outputs": [],
   "source": [
    "import numpy as np\n",
    "import matplotlib.pyplot as plt\n",
    "from IPython.display import HTML\n",
    "from phiml.dataset import LandscapeSimulationDataset"
   ]
  },
  {
   "cell_type": "markdown",
   "metadata": {},
   "source": [
    "## Dataset 1"
   ]
  },
  {
   "cell_type": "code",
   "execution_count": null,
   "metadata": {},
   "outputs": [],
   "source": [
    "datdir_train = \"../data/model_training_data_1\"\n",
    "datdir_valid = \"../data/model_validation_data_1\"\n",
    "nsims_train = 100\n",
    "nsims_valid = 30"
   ]
  },
  {
   "cell_type": "code",
   "execution_count": null,
   "metadata": {},
   "outputs": [],
   "source": [
    "train_dataset = LandscapeSimulationDataset(\n",
    "    datdir_train, nsims_train, 2, \n",
    "    transform='tensor', \n",
    "    target_transform='tensor'\n",
    ")\n",
    "\n",
    "validation_dataset = LandscapeSimulationDataset(\n",
    "    datdir_valid, nsims_valid, 2, \n",
    "    transform='tensor', \n",
    "    target_transform='tensor'\n",
    ")"
   ]
  },
  {
   "cell_type": "markdown",
   "metadata": {},
   "source": [
    "We can preview an individual training datum, which consists of a distribution of cells $X_0\\in\\mathbb{R}^{n\\times d}$ at time $t_0$, and a subsequent distribution of cells $X_1\\in\\mathbb{R}^{n\\times d}$ at time $t_1$, along with parameters $\\vec{p}\\in\\mathbb{R}^{n_{p}}$, where $n$ is the number of cells, $d$ the dimension of the cells, and $n_p$ the number of parameters that parameterize the signal function $f_{sig}(t,\\cdot)$.\n"
   ]
  },
  {
   "cell_type": "code",
   "execution_count": null,
   "metadata": {},
   "outputs": [],
   "source": [
    "idx = 0\n",
    "r = 2\n",
    "train_dataset.preview(idx, xlims=[-r,r], ylims=[-r,r]);"
   ]
  },
  {
   "cell_type": "code",
   "execution_count": null,
   "metadata": {},
   "outputs": [],
   "source": [
    "simidx = 10\n",
    "r = 2\n",
    "ani = train_dataset.animate(\n",
    "    simidx, xlims=[-r, r], ylims=[-r,r], \n",
    "    show=False\n",
    ")"
   ]
  },
  {
   "cell_type": "code",
   "execution_count": null,
   "metadata": {},
   "outputs": [],
   "source": [
    "HTML(ani)"
   ]
  },
  {
   "cell_type": "markdown",
   "metadata": {},
   "source": [
    "## Dataset 2"
   ]
  },
  {
   "cell_type": "code",
   "execution_count": null,
   "metadata": {},
   "outputs": [],
   "source": [
    "datdir_train = \"../data/model_training_data_2\"\n",
    "datdir_valid = \"../data/model_validation_data_2\"\n",
    "nsims_train = 100\n",
    "nsims_valid = 30"
   ]
  },
  {
   "cell_type": "code",
   "execution_count": null,
   "metadata": {},
   "outputs": [],
   "source": [
    "train_dataset = LandscapeSimulationDataset(\n",
    "    datdir_train, nsims_train, 2, \n",
    "    transform='tensor', \n",
    "    target_transform='tensor'\n",
    ")\n",
    "\n",
    "validation_dataset = LandscapeSimulationDataset(\n",
    "    datdir_valid, nsims_valid, 2, \n",
    "    transform='tensor', \n",
    "    target_transform='tensor'\n",
    ")"
   ]
  },
  {
   "cell_type": "code",
   "execution_count": null,
   "metadata": {},
   "outputs": [],
   "source": [
    "idx = 0\n",
    "r = 2\n",
    "train_dataset.preview(idx, xlims=[-r,r], ylims=[-r,r]);"
   ]
  },
  {
   "cell_type": "code",
   "execution_count": null,
   "metadata": {},
   "outputs": [],
   "source": [
    "simidx = 10\n",
    "r = 2\n",
    "ani = train_dataset.animate(\n",
    "    simidx, xlims=[-r, r], ylims=[-r,r], \n",
    "    show=False\n",
    ")"
   ]
  },
  {
   "cell_type": "code",
   "execution_count": null,
   "metadata": {},
   "outputs": [],
   "source": [
    "HTML(ani)"
   ]
  },
  {
   "cell_type": "markdown",
   "metadata": {},
   "source": [
    "## Dataset 3"
   ]
  },
  {
   "cell_type": "code",
   "execution_count": null,
   "metadata": {},
   "outputs": [],
   "source": [
    "datdir_train = \"../data/model_training_data_3\"\n",
    "datdir_valid = \"../data/model_validation_data_3\"\n",
    "nsims_train = 1000\n",
    "nsims_valid = 200"
   ]
  },
  {
   "cell_type": "code",
   "execution_count": null,
   "metadata": {},
   "outputs": [],
   "source": [
    "train_dataset = LandscapeSimulationDataset(\n",
    "    datdir_train, nsims_train, 2, \n",
    "    transform='tensor', \n",
    "    target_transform='tensor'\n",
    ")\n",
    "\n",
    "validation_dataset = LandscapeSimulationDataset(\n",
    "    datdir_valid, nsims_valid, 2, \n",
    "    transform='tensor', \n",
    "    target_transform='tensor'\n",
    ")"
   ]
  },
  {
   "cell_type": "code",
   "execution_count": null,
   "metadata": {},
   "outputs": [],
   "source": [
    "idx = 0\n",
    "r = 2\n",
    "train_dataset.preview(idx, xlims=[-r,r], ylims=[-r,r]);"
   ]
  },
  {
   "cell_type": "code",
   "execution_count": null,
   "metadata": {},
   "outputs": [],
   "source": [
    "simidx = 0\n",
    "r = 2\n",
    "ani = train_dataset.animate(\n",
    "    simidx, xlims=[-r, r], ylims=[-r,r], \n",
    "    show=False,\n",
    "    interval=1000,\n",
    ")"
   ]
  },
  {
   "cell_type": "code",
   "execution_count": null,
   "metadata": {},
   "outputs": [],
   "source": [
    "HTML(ani)"
   ]
  },
  {
   "cell_type": "code",
   "execution_count": null,
   "metadata": {},
   "outputs": [],
   "source": []
  }
 ],
 "metadata": {
  "kernelspec": {
   "display_name": "Python 3",
   "language": "python",
   "name": "python3"
  },
  "language_info": {
   "codemirror_mode": {
    "name": "ipython",
    "version": 3
   },
   "file_extension": ".py",
   "mimetype": "text/x-python",
   "name": "python",
   "nbconvert_exporter": "python",
   "pygments_lexer": "ipython3",
   "version": "3.8.18"
  }
 },
 "nbformat": 4,
 "nbformat_minor": 2
}
