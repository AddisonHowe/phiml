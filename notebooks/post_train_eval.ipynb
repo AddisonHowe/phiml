{
 "cells": [
  {
   "cell_type": "code",
   "execution_count": null,
   "metadata": {},
   "outputs": [],
   "source": [
    "from IPython.display import HTML\n",
    "import os\n",
    "import numpy as np\n",
    "import matplotlib.pyplot as plt\n",
    "from matplotlib import animation\n",
    "import torch\n",
    "from phiml.dataset import LandscapeSimulationDataset\n",
    "from phiml.helpers import get_binary_function\n",
    "from model_loader import load_model_directory, load_sigma_history\n",
    "from plotting import plot_training_loss_history, plot_validation_loss_history\n",
    "from plotting import plot_loss_history, plot_train_vs_valid_history\n",
    "from plotting import plot_sigma_history\n",
    "from plotting import build_video"
   ]
  },
  {
   "cell_type": "code",
   "execution_count": null,
   "metadata": {
    "tags": []
   },
   "outputs": [],
   "source": [
    "MODEL = \"model7342176\""
   ]
  },
  {
   "cell_type": "code",
   "execution_count": null,
   "metadata": {},
   "outputs": [],
   "source": [
    "MODELDIR = f\"../models/{MODEL}\"\n",
    "OUTDIR = f\"../out/model_analysis/{MODEL}\"\n",
    "\n",
    "os.makedirs(OUTDIR, exist_ok=True)"
   ]
  },
  {
   "cell_type": "code",
   "execution_count": null,
   "metadata": {},
   "outputs": [],
   "source": [
    "!cat {MODELDIR + \"/log_args.txt\"}"
   ]
  },
  {
   "cell_type": "code",
   "execution_count": null,
   "metadata": {},
   "outputs": [],
   "source": [
    "model, model_args, loss_hist_train, loss_hist_valid = load_model_directory(\n",
    "    MODELDIR, MODEL, verbosity=0\n",
    ")\n",
    "\n",
    "for k, v in sorted(model_args.items()):\n",
    "    print(f\"{k} : {v}\")"
   ]
  },
  {
   "cell_type": "code",
   "execution_count": null,
   "metadata": {},
   "outputs": [],
   "source": [
    "print(\"*** Inferred Model Parameters ***\")\n",
    "print(f\"Sigma: {np.exp(model.logsigma.item()):.4g}\")\n",
    "print(f\"Tilt map:\\n{list(model.tilt_nn.parameters())[0].detach().numpy()}\")"
   ]
  },
  {
   "cell_type": "markdown",
   "metadata": {},
   "source": [
    "## Training/Validation Loss History\n"
   ]
  },
  {
   "cell_type": "code",
   "execution_count": null,
   "metadata": {},
   "outputs": [],
   "source": [
    "logplot = True\n",
    "startidx = 0\n",
    "loss_method = model_args['loss']\n",
    "optimizer = model_args['optimizer']\n",
    "\n",
    "plot_training_loss_history(\n",
    "    loss_hist_train, \n",
    "    startidx=startidx, log=logplot, \n",
    "    title=f\"Training Loss ({loss_method}, {optimizer})\",\n",
    "    saveas=f\"{OUTDIR}/loss_hist_training.png\",\n",
    ");\n",
    "\n",
    "plot_validation_loss_history(\n",
    "    loss_hist_valid, \n",
    "    startidx=startidx, log=logplot, \n",
    "    title=f\"Validation Loss ({loss_method}, {optimizer})\",\n",
    "    saveas=f\"{OUTDIR}/loss_hist_validation.png\",\n",
    ");\n",
    "\n",
    "plot_loss_history(\n",
    "    loss_hist_train, loss_hist_valid,\n",
    "    startidx=startidx, log=logplot, \n",
    "    title=f\"Loss History ({loss_method}, {optimizer})\",\n",
    "    saveas=f\"{OUTDIR}/loss_hist.png\",\n",
    ");\n",
    "\n",
    "plot_train_vs_valid_history(\n",
    "    loss_hist_train, loss_hist_valid, \n",
    "    startidx=startidx, log=logplot, \n",
    "    title=f\"Loss History ({loss_method}, {optimizer})\",\n",
    "    saveas=f\"{OUTDIR}/loss_train_vs_valid.png\",\n",
    ");"
   ]
  },
  {
   "cell_type": "markdown",
   "metadata": {},
   "source": [
    "## Evolution of Inferred Parameters"
   ]
  },
  {
   "cell_type": "code",
   "execution_count": null,
   "metadata": {},
   "outputs": [],
   "source": [
    "sigma_history = load_sigma_history(MODELDIR)\n",
    "plot_sigma_history(\n",
    "    sigma_history,\n",
    "    saveas=f\"{OUTDIR}/sigma_history.png\",\n",
    ");"
   ]
  },
  {
   "cell_type": "markdown",
   "metadata": {},
   "source": [
    "## Visualizing the Inferred Landscape\n"
   ]
  },
  {
   "cell_type": "code",
   "execution_count": null,
   "metadata": {},
   "outputs": [],
   "source": [
    "model.plot_phi(\n",
    "    signal=[0, 0],\n",
    "    r=4, res=400, show=True, \n",
    "    normalize=True, \n",
    "    log_normalize=True,\n",
    "    clip=None,\n",
    "    saveas=f\"{OUTDIR}/phi_untilted_heatmap.png\"\n",
    ");"
   ]
  },
  {
   "cell_type": "code",
   "execution_count": null,
   "metadata": {},
   "outputs": [],
   "source": [
    "model.plot_phi(\n",
    "    signal=[0, 0],\n",
    "    r=2, res=200, normalize=True, log_normalize=False,\n",
    "    clip=None,\n",
    "    view_init=(60,-20),\n",
    "    plot3d=True,\n",
    "    show=True,\n",
    "    saveas=f\"{OUTDIR}/phi_untilted_landscape.png\"\n",
    ");"
   ]
  },
  {
   "cell_type": "code",
   "execution_count": null,
   "metadata": {},
   "outputs": [],
   "source": [
    "sig = [0, 0]\n",
    "model.plot_f(\n",
    "    signal=sig, r=2, res=20, show=True,\n",
    "    title=f\"$\\\\vec{{F}}(x,y|\\\\vec{{s}}=\\\\langle{sig[0]:.2g},{sig[1]:.2g}\\\\rangle)$\",\n",
    "    cbar_title=\"$|\\\\vec{F}|$\",\n",
    "    saveas=f\"{OUTDIR}/field_untilted.png\"\n",
    ");"
   ]
  },
  {
   "cell_type": "markdown",
   "metadata": {},
   "source": [
    "## Animation of Landscape Evolution"
   ]
  },
  {
   "cell_type": "code",
   "execution_count": null,
   "metadata": {},
   "outputs": [],
   "source": [
    "tfin = 1\n",
    "dt = 1e-2\n",
    "ts = np.linspace(0, tfin, 1 + int((tfin - 0) / dt))\n",
    "sig0 = [0, 1]\n",
    "sig1 = [1, 0]\n",
    "fs0 = lambda t: (sig1[0] - sig0[0]) / (ts[-1] - ts[0]) * (t - ts[0]) + sig0[0]\n",
    "fs1 = lambda t: (sig1[1] - sig0[1]) / (ts[-1] - ts[0]) * (t - ts[0]) + sig1[0]\n",
    "signal_hist = [[fs0(t), fs1(t)] for t in ts]\n",
    "\n",
    "def plot_frame(signal, t):\n",
    "    ax = model.plot_phi(\n",
    "        signal=signal, \n",
    "        r=2, res=100,\n",
    "        plot3d=True,\n",
    "        log_normalize=True,\n",
    "        title=f\"$t={t:.3f}$, $\\\\vec{{s}}=[{signal[0]:.3f}, {signal[1]:.3f}]$\"\n",
    "    )\n",
    "    return ax\n",
    "\n",
    "anim = build_video(\n",
    "    lambda i: plot_frame(signal_hist[i], ts[i]),\n",
    "    nframes=len(ts),\n",
    "    interval=50\n",
    ")\n",
    "\n",
    "anim.save(f\"{OUTDIR}/landscape_animation.mp4\")\n",
    "\n",
    "HTML(anim.to_html5_video())"
   ]
  },
  {
   "cell_type": "markdown",
   "metadata": {},
   "source": [
    "## Animation of cell evolution"
   ]
  },
  {
   "cell_type": "code",
   "execution_count": null,
   "metadata": {},
   "outputs": [],
   "source": [
    "y0 = np.zeros([model.get_ncells(), 2])\n",
    "y0[:,1] = -0.5\n",
    "tfin = 20\n",
    "sigparams = [10, 0, 1, 1, 0]\n",
    "dt = 1e-1\n",
    "y, yhist = model.simulate_single_batch(0, tfin, y0, sigparams, dt)\n",
    "ts = np.linspace(0, tfin, 1 + int((tfin - 0) / dt))\n",
    "fsig = get_binary_function(sigparams[0], sigparams[1:3], sigparams[3:])\n",
    "signal_hist = [fsig(t) for t in ts]\n",
    "\n",
    "def plot_frame(data, signal, t):\n",
    "    ax = model.plot_phi(\n",
    "        signal=signal, \n",
    "        r=2, res=100,\n",
    "        log_normalize=False,\n",
    "    )\n",
    "    ax.plot(data[:,0], data[:,1], '.', c='k', markersize=2)\n",
    "    ax.set_title(f\"$t={t:.3f}$\")\n",
    "    return ax\n",
    "\n",
    "anim = build_video(\n",
    "    lambda i: plot_frame(yhist[i], signal=signal_hist[i], t=ts[i]),\n",
    "    nframes=len(yhist),\n",
    "    interval=50\n",
    ")\n",
    "\n",
    "anim.save(f\"{OUTDIR}/cell_animation.mp4\")\n",
    "\n",
    "HTML(anim.to_html5_video())"
   ]
  },
  {
   "cell_type": "markdown",
   "metadata": {},
   "source": [
    "## Examine training and validation datasets"
   ]
  },
  {
   "cell_type": "code",
   "execution_count": null,
   "metadata": {},
   "outputs": [],
   "source": [
    "datdir_train = \"../\" + model_args['training_data']\n",
    "datdir_valid = \"../\" + model_args['validation_data']\n",
    "nsims_train = model_args['nsims_training']\n",
    "nsims_valid = model_args['nsims_validation']"
   ]
  },
  {
   "cell_type": "code",
   "execution_count": null,
   "metadata": {},
   "outputs": [],
   "source": [
    "train_dataset = LandscapeSimulationDataset(\n",
    "    datdir_train, nsims_train, model_args['ndims'], \n",
    "    transform='tensor', \n",
    "    target_transform='tensor'\n",
    ")\n",
    "\n",
    "validation_dataset = LandscapeSimulationDataset(\n",
    "    datdir_valid, nsims_valid, model_args['ndims'], \n",
    "    transform='tensor', \n",
    "    target_transform='tensor'\n",
    ")"
   ]
  },
  {
   "cell_type": "code",
   "execution_count": null,
   "metadata": {},
   "outputs": [],
   "source": [
    "idx = 1\n",
    "r = 2\n",
    "train_dataset.preview(idx, xlims=[-r,r], ylims=[-r,r]);"
   ]
  },
  {
   "cell_type": "code",
   "execution_count": null,
   "metadata": {},
   "outputs": [],
   "source": [
    "simidx = 0\n",
    "r = 2\n",
    "ani = train_dataset.animate(\n",
    "    simidx, xlims=[-r, r], ylims=[-r,r], \n",
    "    show=False, interval=1000\n",
    ")\n",
    "\n",
    "HTML(ani)"
   ]
  },
  {
   "cell_type": "code",
   "execution_count": null,
   "metadata": {},
   "outputs": [],
   "source": []
  }
 ],
 "metadata": {
  "kernelspec": {
   "display_name": "Python 3",
   "language": "python",
   "name": "python3"
  },
  "language_info": {
   "codemirror_mode": {
    "name": "ipython",
    "version": 3
   },
   "file_extension": ".py",
   "mimetype": "text/x-python",
   "name": "python",
   "nbconvert_exporter": "python",
   "pygments_lexer": "ipython3",
   "version": "3.8.18"
  }
 },
 "nbformat": 4,
 "nbformat_minor": 2
}
