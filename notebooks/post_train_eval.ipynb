{
 "cells": [
  {
   "cell_type": "code",
   "execution_count": null,
   "metadata": {},
   "outputs": [],
   "source": [
    "from IPython.display import HTML\n",
    "import os\n",
    "import numpy as np\n",
    "import matplotlib.pyplot as plt\n",
    "from matplotlib import animation\n",
    "import torch\n",
    "from phiml.dataset import LandscapeSimulationDataset\n",
    "from model_loader import load_model_directory\n",
    "from plotting import plot_training_loss_history, plot_validation_loss_history"
   ]
  },
  {
   "cell_type": "code",
   "execution_count": null,
   "metadata": {},
   "outputs": [],
   "source": [
    "MODEL = \"model7296801\""
   ]
  },
  {
   "cell_type": "code",
   "execution_count": null,
   "metadata": {},
   "outputs": [],
   "source": [
    "MODELDIR = f\"../models/{MODEL}\"\n",
    "OUTDIR = f\"../out/model_analysis/{MODEL}_tester\"\n",
    "\n",
    "os.makedirs(OUTDIR, exist_ok=True)"
   ]
  },
  {
   "cell_type": "code",
   "execution_count": null,
   "metadata": {},
   "outputs": [],
   "source": [
    "!cat {MODELDIR + \"/log_args.txt\"}"
   ]
  },
  {
   "cell_type": "code",
   "execution_count": null,
   "metadata": {},
   "outputs": [],
   "source": [
    "model, model_args, loss_hist_train, loss_hist_valid = load_model_directory(\n",
    "    MODELDIR, MODEL, verbosity=0\n",
    ")\n",
    "\n",
    "for k, v in sorted(model_args.items()):\n",
    "    print(f\"{k} : {v}\")"
   ]
  },
  {
   "cell_type": "code",
   "execution_count": null,
   "metadata": {},
   "outputs": [],
   "source": [
    "print(\"*** Inferred Model Parameters ***\")\n",
    "print(f\"Sigma: {np.exp(model.logsigma.item()):.4g}\")\n",
    "print(f\"Tilt map:\\n{list(model.tilt_nn.parameters())[0].detach().numpy()}\")"
   ]
  },
  {
   "cell_type": "code",
   "execution_count": null,
   "metadata": {},
   "outputs": [],
   "source": [
    "logplot = False\n",
    "startidx = 0\n",
    "loss_method = model_args['loss']\n",
    "optimizer = model_args['optimizer']\n",
    "\n",
    "plot_training_loss_history(\n",
    "    loss_hist_train, \n",
    "    startidx=startidx, log=logplot, \n",
    "    title=f\"Training Loss ({loss_method}, {optimizer})\",\n",
    "    saveas=f\"{OUTDIR}/loss_hist_training.png\",\n",
    ");\n",
    "\n",
    "plot_validation_loss_history(\n",
    "    loss_hist_valid, \n",
    "    startidx=startidx, log=logplot, \n",
    "    title=f\"Validation Loss ({loss_method}, {optimizer})\",\n",
    "    saveas=f\"{OUTDIR}/loss_hist_validation.png\",\n",
    ");"
   ]
  },
  {
   "cell_type": "code",
   "execution_count": null,
   "metadata": {},
   "outputs": [],
   "source": [
    "model.plot_phi(\n",
    "    r=2, res=400, show=True, \n",
    "    normalize=True, \n",
    "    log_normalize=False,\n",
    "    clip=None,\n",
    "    saveas=f\"{OUTDIR}/phi_heatmap.png\"\n",
    ");"
   ]
  },
  {
   "cell_type": "code",
   "execution_count": null,
   "metadata": {},
   "outputs": [],
   "source": [
    "model.plot_phi(\n",
    "    r=3, res=200, show=True, normalize=True, log_normalize=False,\n",
    "    plot3d=True,\n",
    "    saveas=f\"{OUTDIR}/phi_landscape.png\"\n",
    ");"
   ]
  },
  {
   "cell_type": "code",
   "execution_count": null,
   "metadata": {},
   "outputs": [],
   "source": [
    "sig = [0, 0]\n",
    "model.plot_f(\n",
    "    signal=sig, r=2, res=20, show=True,\n",
    "    title=f\"$\\\\vec{{F}}(x,y|\\\\vec{{s}}=\\\\langle{sig[0]:.2g},{sig[1]:.2g}\\\\rangle)$\",\n",
    "    cbar_title=\"$|\\\\vec{F}|$\",\n",
    "    saveas=f\"{OUTDIR}/f_plot.png\"\n",
    ");"
   ]
  },
  {
   "cell_type": "code",
   "execution_count": null,
   "metadata": {},
   "outputs": [],
   "source": [
    "y0 = np.ones([model.get_ncells(), 2]) * -0.5\n",
    "sigparams = [10, 0, 0, 1, 1]\n",
    "dt = 1e-1\n",
    "y, yhist = model.simulate_single_batch(0, 20, y0, sigparams, dt)"
   ]
  },
  {
   "cell_type": "code",
   "execution_count": null,
   "metadata": {},
   "outputs": [],
   "source": [
    "def plot_frame(data, col='b', size=2, xlabel='$x$', ylabel='$y$',\n",
    "               xlim=[-2,2], ylim=[-2,2]):\n",
    "    fig, ax = plt.subplots(1, 1)\n",
    "    ax.plot(data[:,0], data[:,1], '.', \n",
    "            c=col, markersize=size)\n",
    "    ax.set_xlim(*xlim)\n",
    "    ax.set_ylim(*ylim)\n",
    "    ax.set_xlabel(xlabel)\n",
    "    ax.set_ylabel(ylabel)\n",
    "    return ax\n",
    "\n",
    "video = []  # Collect frames into an array\n",
    "for idx in range(len(yhist)):\n",
    "    ax = plot_frame(yhist[idx])  # axis plotting function\n",
    "    ax.figure.canvas.draw()\n",
    "    data = np.frombuffer(ax.figure.canvas.tostring_rgb(), dtype=np.uint8)\n",
    "    data = data.reshape(ax.figure.canvas.get_width_height()[::-1] + (3,))\n",
    "    video.append(data)\n",
    "    plt.close()\n",
    "video = np.array(video)\n",
    "\n",
    "fig = plt.figure()\n",
    "plt.axis('off')\n",
    "plt.tight_layout()\n",
    "im = plt.imshow(video[0])\n",
    "plt.close() \n",
    "def init():\n",
    "    im.set_data(video[0])\n",
    "\n",
    "def ani_func(i):\n",
    "    im.set_data(video[i])\n",
    "    return im\n",
    "\n",
    "anim = animation.FuncAnimation(\n",
    "    fig, ani_func, init_func=init,\n",
    "    frames=video.shape[0],\n",
    "    interval=50\n",
    ")\n",
    "\n",
    "ani = anim.to_html5_video()"
   ]
  },
  {
   "cell_type": "code",
   "execution_count": null,
   "metadata": {},
   "outputs": [],
   "source": [
    "HTML(ani)"
   ]
  },
  {
   "cell_type": "markdown",
   "metadata": {},
   "source": [
    "## Examine training and validation datasets"
   ]
  },
  {
   "cell_type": "code",
   "execution_count": null,
   "metadata": {},
   "outputs": [],
   "source": [
    "datdir_train = \"../\" + model_args['training_data']\n",
    "datdir_valid = \"../\" + model_args['validation_data']\n",
    "nsims_train = model_args['nsims_training']\n",
    "nsims_valid = model_args['nsims_validation']"
   ]
  },
  {
   "cell_type": "code",
   "execution_count": null,
   "metadata": {},
   "outputs": [],
   "source": [
    "train_dataset = LandscapeSimulationDataset(\n",
    "    datdir_train, nsims_train, model_args['ndims'], \n",
    "    transform='tensor', \n",
    "    target_transform='tensor'\n",
    ")\n",
    "\n",
    "validation_dataset = LandscapeSimulationDataset(\n",
    "    datdir_valid, nsims_valid, model_args['ndims'], \n",
    "    transform='tensor', \n",
    "    target_transform='tensor'\n",
    ")"
   ]
  },
  {
   "cell_type": "markdown",
   "metadata": {},
   "source": [
    "We can preview an individual training datum, which consists of a distribution of cells $X_0\\in\\mathbb{R}^{n\\times d}$ at time $t_0$, and a subsequent distribution of cells $X_1\\in\\mathbb{R}^{n\\times d}$ at time $t_1$, along with parameters $\\vec{p}\\in\\mathbb{R}^{n_{p}}$, where $n$ is the number of cells, $d$ the dimension of the cells, and $n_p$ the number of parameters that parameterize the signal function $f_{sig}(t,\\cdot)$.\n"
   ]
  },
  {
   "cell_type": "code",
   "execution_count": null,
   "metadata": {},
   "outputs": [],
   "source": [
    "idx = 1\n",
    "r = 2\n",
    "train_dataset.preview(idx, xlims=[-r,r], ylims=[-r,r]);"
   ]
  },
  {
   "cell_type": "markdown",
   "metadata": {},
   "source": [
    "We can view an animation of a full simulation, which consists of many consecutive time point pairs"
   ]
  },
  {
   "cell_type": "code",
   "execution_count": null,
   "metadata": {},
   "outputs": [],
   "source": [
    "simidx = 0\n",
    "r = 2\n",
    "ani = train_dataset.animate(\n",
    "    simidx, xlims=[-r, r], ylims=[-r,r], \n",
    "    show=False, interval=1000\n",
    ")"
   ]
  },
  {
   "cell_type": "code",
   "execution_count": null,
   "metadata": {},
   "outputs": [],
   "source": [
    "HTML(ani)"
   ]
  },
  {
   "cell_type": "code",
   "execution_count": null,
   "metadata": {},
   "outputs": [],
   "source": []
  }
 ],
 "metadata": {
  "kernelspec": {
   "display_name": "Python 3",
   "language": "python",
   "name": "python3"
  },
  "language_info": {
   "codemirror_mode": {
    "name": "ipython",
    "version": 3
   },
   "file_extension": ".py",
   "mimetype": "text/x-python",
   "name": "python",
   "nbconvert_exporter": "python",
   "pygments_lexer": "ipython3",
   "version": "3.8.18"
  }
 },
 "nbformat": 4,
 "nbformat_minor": 2
}
