{
 "cells": [
  {
   "cell_type": "markdown",
   "metadata": {},
   "source": [
    "# Plots of the landscape functions used in simulations"
   ]
  },
  {
   "cell_type": "code",
   "execution_count": null,
   "metadata": {},
   "outputs": [],
   "source": [
    "import numpy as np\n",
    "import matplotlib.pyplot as plt\n",
    "import torch"
   ]
  },
  {
   "cell_type": "markdown",
   "metadata": {},
   "source": [
    "## Plot of Landscape Model 1\n",
    "\n",
    "We define\n",
    "$$\\phi_1(x,y)=x^4+y^4+y^3-4x^2y+y^2-p_1x+p_2y$$\n",
    "where we may fix $p_1=p_2=0$ to define the untilted landscape $\\phi_1^*$.\n"
   ]
  },
  {
   "cell_type": "code",
   "execution_count": null,
   "metadata": {},
   "outputs": [],
   "source": [
    "def func_phi1_star(x, y, p1=0, p2=0):\n",
    "    return x**4 + y**4 + y**3 - 4*x*x*y + y*y - p1*x + p2*y"
   ]
  },
  {
   "cell_type": "code",
   "execution_count": null,
   "metadata": {},
   "outputs": [],
   "source": [
    "r = 4  # box radius\n",
    "res = 200  # resolution\n",
    "signal = [0, 0]  # signal\n",
    "lognormalize = True\n",
    "cmap = \"coolwarm\"\n",
    "\n",
    "signal_params = np.array([10, *signal, *signal])\n",
    "signal_params = torch.tensor([signal_params], dtype=torch.float32)\n",
    "\n",
    "x = np.linspace(-r, r, res)\n",
    "y = np.linspace(-r, r, res)\n",
    "xs, ys = np.meshgrid(x, y)\n",
    "z = np.array([xs.flatten(), ys.flatten()]).T\n",
    "z = torch.tensor([z], dtype=torch.float32, requires_grad=True)\n",
    "\n",
    "phi_star = func_phi1_star(xs, ys)\n",
    "if lognormalize:\n",
    "    phi_star = np.log(1 + phi_star - phi_star.min())  # log normalize\n",
    "\n",
    "fig, ax = plt.subplots(1, 1)\n",
    "\n",
    "# Plot true landscape\n",
    "sc = ax.pcolormesh(\n",
    "    xs, ys, phi_star.reshape(xs.shape), \n",
    "    cmap=cmap, \n",
    "    vmin=phi_star.min(), vmax=phi_star.max()\n",
    ")\n",
    "\n",
    "ax.set_xlabel(f\"$x$\")\n",
    "ax.set_ylabel(f\"$y$\")\n",
    "ax.set_title(f\"Untilted Landscape $\\phi_1^*$\")\n",
    "\n",
    "cbar = plt.colorbar(sc)\n",
    "cbar.ax.set_title(\"$\\log\\phi^*$\", size=10)\n",
    "cbar.ax.tick_params(labelsize=8)\n",
    "\n",
    "# plt.savefig(f\"phi1_untilted.png\")"
   ]
  },
  {
   "cell_type": "code",
   "execution_count": null,
   "metadata": {},
   "outputs": [],
   "source": [
    "r = 5  # box radius\n",
    "res = 200  # resolution\n",
    "signal = [0, 2]  # signal\n",
    "lognormalize = True\n",
    "cmap = \"coolwarm\"\n",
    "\n",
    "signal_params = np.array([10, *signal, *signal])\n",
    "signal_params = torch.tensor([signal_params], dtype=torch.float32)\n",
    "\n",
    "x = np.linspace(-r, r, res)\n",
    "y = np.linspace(-r, r, res)\n",
    "xs, ys = np.meshgrid(x, y)\n",
    "z = np.array([xs.flatten(), ys.flatten()]).T\n",
    "z = torch.tensor([z], dtype=torch.float32, requires_grad=True)\n",
    "\n",
    "phi_star = func_phi1_star(xs, ys, signal[0], signal[1])\n",
    "if lognormalize:\n",
    "    phi_star = np.log(1 + phi_star - phi_star.min())  # log normalize\n",
    "\n",
    "fig, ax = plt.subplots(1, 1)\n",
    "\n",
    "# Plot true landscape (TILTED)\n",
    "sc = ax.pcolormesh(\n",
    "    xs, ys, phi_star.reshape(xs.shape), \n",
    "    cmap=cmap, \n",
    "    vmin=phi_star.min(), vmax=phi_star.max()\n",
    ")\n",
    "\n",
    "ax.set_xlabel(f\"$x$\")\n",
    "ax.set_ylabel(f\"$y$\")\n",
    "ax.set_title(f\"Tilted Landscape $\\phi_1(x,y|\\\\vec{{p}}=\\langle{signal[0]:.2g},{signal[1]:.2g}\\\\rangle)$\")\n",
    "\n",
    "cbar = plt.colorbar(sc)\n",
    "cbar.ax.set_title(\"$\\log\\phi^*$\", size=10)\n",
    "cbar.ax.tick_params(labelsize=8)\n",
    "\n",
    "# plt.savefig(f\"phi1_tilted_{signal[0]:.2g}_{signal[1]:.2g}.png\")"
   ]
  },
  {
   "cell_type": "code",
   "execution_count": null,
   "metadata": {},
   "outputs": [],
   "source": []
  }
 ],
 "metadata": {
  "kernelspec": {
   "display_name": "Python 3",
   "language": "python",
   "name": "python3"
  },
  "language_info": {
   "codemirror_mode": {
    "name": "ipython",
    "version": 3
   },
   "file_extension": ".py",
   "mimetype": "text/x-python",
   "name": "python",
   "nbconvert_exporter": "python",
   "pygments_lexer": "ipython3",
   "version": "3.8.18"
  }
 },
 "nbformat": 4,
 "nbformat_minor": 2
}
