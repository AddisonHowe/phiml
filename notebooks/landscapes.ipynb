{
 "cells": [
  {
   "cell_type": "markdown",
   "metadata": {},
   "source": [
    "# Plots of the landscape functions used in simulations"
   ]
  },
  {
   "cell_type": "code",
   "execution_count": null,
   "metadata": {},
   "outputs": [],
   "source": [
    "import numpy as np\n",
    "import matplotlib.pyplot as plt\n",
    "import torch\n",
    "from plotting import plot_landscape"
   ]
  },
  {
   "cell_type": "code",
   "execution_count": null,
   "metadata": {},
   "outputs": [],
   "source": [
    "SAVEPLOTS = False"
   ]
  },
  {
   "cell_type": "markdown",
   "metadata": {},
   "source": [
    "## Plot of Landscape Model 1\n",
    "\n",
    "We define\n",
    "$$\\phi_1(x,y)=x^4+y^4+y^3-4x^2y+y^2-p_1x+p_2y$$\n",
    "where we may fix $p_1=p_2=0$ to define the untilted landscape $\\phi_1^*$.\n"
   ]
  },
  {
   "cell_type": "code",
   "execution_count": null,
   "metadata": {},
   "outputs": [],
   "source": [
    "def func_phi1_star(x, y, p1=0, p2=0):\n",
    "    return x**4 + y**4 + y**3 - 4*x*x*y + y*y - p1*x + p2*y"
   ]
  },
  {
   "cell_type": "code",
   "execution_count": null,
   "metadata": {},
   "outputs": [],
   "source": [
    "r = 4  # box radius\n",
    "res = 400  # resolution\n",
    "lognormalize = True\n",
    "clip = None\n",
    "\n",
    "plot_landscape(\n",
    "    func_phi1_star, r=r, res=res, signal=[0, 0], \n",
    "    lognormalize=lognormalize,\n",
    "    clip=clip,\n",
    "    title=f\"Untilted Landscape $\\phi_1^*$\",\n",
    "    cbar_title=\"$\\log\\phi^*$\" if lognormalize else \"$\\phi^*$\",\n",
    "    saveas=\"phi1_heatmap_untilted.png\" if SAVEPLOTS else None,\n",
    ");"
   ]
  },
  {
   "cell_type": "code",
   "execution_count": null,
   "metadata": {},
   "outputs": [],
   "source": [
    "r = 4  # box radius\n",
    "res = 400  # resolution\n",
    "lognormalize = False\n",
    "clip = 400\n",
    "view_init = (60,-80)\n",
    "\n",
    "plot_landscape(\n",
    "    func_phi1_star, r=r, res=res, signal=[0, 0], plot3d=True,\n",
    "    view_init=view_init,\n",
    "    clip=clip,\n",
    "    lognormalize=lognormalize,\n",
    "    title=f\"Untilted Landscape $\\phi_1^*$\",\n",
    "    cbar_title=\"$\\log\\phi^*$\" if lognormalize else \"$\\phi^*$\",\n",
    "    saveas=\"phi1_landscape_untilted.png\" if SAVEPLOTS else None,\n",
    ");"
   ]
  },
  {
   "cell_type": "code",
   "execution_count": null,
   "metadata": {},
   "outputs": [],
   "source": [
    "r = 4  # box radius\n",
    "res = 400  # resolution\n",
    "signal = [-10, 2]  # signal\n",
    "lognormalize = True\n",
    "clip = None\n",
    "\n",
    "plot_landscape(\n",
    "    func_phi1_star, r=r, res=res, signal=signal, \n",
    "    lognormalize=lognormalize,\n",
    "    clip=clip,\n",
    "    title=f\"Tilted Landscape $\\phi_1(x,y|\\\\vec{{p}}=\\langle{signal[0]:.2g},{signal[1]:.2g}\\\\rangle)$\",\n",
    "    cbar_title=\"$\\log\\phi^*$\",\n",
    "    saveas=f\"phi1_heatmap_tilted_{signal[0]:.2g}_{signal[1]:.2g}.png\" if SAVEPLOTS else None\n",
    ");"
   ]
  },
  {
   "cell_type": "code",
   "execution_count": null,
   "metadata": {},
   "outputs": [],
   "source": [
    "r = 4  # box radius\n",
    "res = 400  # resolution\n",
    "signal = [-10, 2]  # signal\n",
    "lognormalize = False\n",
    "clip = 400\n",
    "view_init = (60,-80)\n",
    "\n",
    "plot_landscape(\n",
    "    func_phi1_star, r=r, res=res, signal=signal, plot3d=True,\n",
    "    view_init=view_init,\n",
    "    clip=clip,\n",
    "    lognormalize=lognormalize,\n",
    "    title=f\"Tilted Landscape $\\phi_1(x,y|\\\\vec{{p}}=\\langle{signal[0]:.2g},{signal[1]:.2g}\\\\rangle)$\",\n",
    "    cbar_title=\"$\\log\\phi^*$\",\n",
    "    saveas=f\"phi1_landscape_tilted_{signal[0]:.2g}_{signal[1]:.2g}.png\" if SAVEPLOTS else None\n",
    ");"
   ]
  },
  {
   "cell_type": "markdown",
   "metadata": {},
   "source": [
    "## Plot of Landscape Model 2\n",
    "\n",
    "We define\n",
    "$$\\phi_2(x,y)=x^4+y^4+x^3-2xy^2-x^2+p_1x+p_2y$$\n",
    "where we may fix $p_1=p_2=0$ to define the untilted landscape $\\phi_2^*$."
   ]
  },
  {
   "cell_type": "code",
   "execution_count": null,
   "metadata": {},
   "outputs": [],
   "source": [
    "def func_phi2_star(x, y, p1=0, p2=0):\n",
    "    return x**4 + y**4 + x**3 - 2*x*y*y - x*x + p1*x + p2*y"
   ]
  },
  {
   "cell_type": "code",
   "execution_count": null,
   "metadata": {},
   "outputs": [],
   "source": [
    "r = 4  # box radius\n",
    "res = 400  # resolution\n",
    "lognormalize = True\n",
    "clip = None\n",
    "\n",
    "plot_landscape(\n",
    "    func_phi2_star, r=r, res=res, signal=[0, 0], \n",
    "    lognormalize=lognormalize,\n",
    "    clip=clip,\n",
    "    title=f\"Untilted Landscape $\\phi_2^*$\",\n",
    "    cbar_title=\"$\\log\\phi^*$\" if lognormalize else \"$\\phi^*$\",\n",
    "    saveas=\"phi2_heatmap_untilted.png\" if SAVEPLOTS else None,\n",
    ");"
   ]
  },
  {
   "cell_type": "code",
   "execution_count": null,
   "metadata": {},
   "outputs": [],
   "source": [
    "r = 4  # box radius\n",
    "res = 400  # resolution\n",
    "lognormalize = False\n",
    "clip = None\n",
    "view_init = (50,-80)\n",
    "\n",
    "plot_landscape(\n",
    "    func_phi2_star, r=r, res=res, signal=[0, 0], plot3d=True,\n",
    "    view_init=view_init,\n",
    "    clip=clip,\n",
    "    lognormalize=lognormalize,\n",
    "    title=f\"Untilted Landscape $\\phi_2^*$\",\n",
    "    cbar_title=\"$\\log\\phi^*$\" if lognormalize else \"$\\phi^*$\",\n",
    "    saveas=\"phi2_landscape_untilted.png\" if SAVEPLOTS else None,\n",
    ");"
   ]
  },
  {
   "cell_type": "code",
   "execution_count": null,
   "metadata": {},
   "outputs": [],
   "source": [
    "r = 4  # box radius\n",
    "res = 400  # resolution\n",
    "signal = [-1, 2]  # signal\n",
    "lognormalize = True\n",
    "clip = None\n",
    "\n",
    "plot_landscape(\n",
    "    func_phi2_star, r=r, res=res, signal=signal, \n",
    "    lognormalize=lognormalize,\n",
    "    clip=clip,\n",
    "    title=f\"Tilted Landscape $\\phi_2(x,y|\\\\vec{{p}}=\\langle{signal[0]:.2g},{signal[1]:.2g}\\\\rangle)$\",\n",
    "    cbar_title=\"$\\log\\phi^*$\",\n",
    "    saveas=f\"phi2_heatmap_tilted_{signal[0]:.2g}_{signal[1]:.2g}.png\" if SAVEPLOTS else None\n",
    ");"
   ]
  },
  {
   "cell_type": "code",
   "execution_count": null,
   "metadata": {},
   "outputs": [],
   "source": [
    "r = 2  # box radius\n",
    "res = 400  # resolution\n",
    "signal = [-1, 2]  # signal\n",
    "lognormalize = False\n",
    "clip = None\n",
    "view_init = (50,-80)\n",
    "\n",
    "plot_landscape(\n",
    "    func_phi2_star, r=r, res=res, signal=signal, plot3d=True,\n",
    "    view_init=view_init,\n",
    "    clip=clip,\n",
    "    lognormalize=lognormalize,\n",
    "    title=f\"Tilted Landscape $\\phi_2(x,y|\\\\vec{{p}}=\\langle{signal[0]:.2g},{signal[1]:.2g}\\\\rangle)$\",\n",
    "    cbar_title=\"$\\log\\phi^*$\",\n",
    "    saveas=f\"phi2_landscape_tilted_{signal[0]:.2g}_{signal[1]:.2g}.png\" if SAVEPLOTS else None\n",
    ");"
   ]
  },
  {
   "cell_type": "code",
   "execution_count": null,
   "metadata": {},
   "outputs": [],
   "source": []
  }
 ],
 "metadata": {
  "kernelspec": {
   "display_name": "Python 3",
   "language": "python",
   "name": "python3"
  },
  "language_info": {
   "codemirror_mode": {
    "name": "ipython",
    "version": 3
   },
   "file_extension": ".py",
   "mimetype": "text/x-python",
   "name": "python",
   "nbconvert_exporter": "python",
   "pygments_lexer": "ipython3",
   "version": "3.8.18"
  }
 },
 "nbformat": 4,
 "nbformat_minor": 2
}
